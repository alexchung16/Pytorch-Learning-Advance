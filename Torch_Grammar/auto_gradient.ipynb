{
 "cells": [
  {
   "cell_type": "code",
   "execution_count": 1,
   "metadata": {},
   "outputs": [],
   "source": [
    "import torch\n",
    "\n",
    "# 追踪梯度\n",
    "# pytorch 通过提供包(package)autograde, 计算函数梯度\n",
    "# Tensor 是这个包的核心类\n",
    "# .require_grad 设为True, 追踪tensor上的所有操作，可以使用链式法则进行梯度传播\n",
    "# .backword() 完成所有的梯度计算，\n",
    "# .grad 累积梯度\n",
    "#  取消梯度追踪\n",
    "# .detach() 将tensor从追踪记录中分离出来， 可以防止被计算追踪，梯度就传不过去\n",
    "# 或者使用 with torch.no_grad() 将不想被追踪的操作代码块包裹起来（如模型评估时，不需要计算参数梯度）\n",
    "\n",
    "# Function 是另一个类，Tensor和Function互相结合就可以构建一个记录整个计算过程的有向無环图（DAG）\n",
    "# 每个tensor都有一个grad_fn属性，该属性即创建该tensor的Function,返回运算操作的对象(若无则返回None)\n",
    "\n",
    "# gradient operation\n",
    "# 直接创建的节点称为叶子节点，叶子节点对应的grad_fn为False"
   ]
  },
  {
   "cell_type": "code",
   "execution_count": 2,
   "metadata": {},
   "outputs": [
    {
     "name": "stdout",
     "output_type": "stream",
     "text": [
      "tensor([[1., 1.],\n",
      "        [1., 1.]], requires_grad=True)\n",
      "None\n"
     ]
    }
   ],
   "source": [
    "x = torch.ones(2, 2, requires_grad=True)\n",
    "print(x)\n",
    "print(x.grad_fn)"
   ]
  },
  {
   "cell_type": "code",
   "execution_count": 3,
   "metadata": {},
   "outputs": [
    {
     "name": "stdout",
     "output_type": "stream",
     "text": [
      "tensor([[3., 3.],\n",
      "        [3., 3.]], grad_fn=<AddBackward0>)\n",
      "True False\n",
      "<AddBackward0 object at 0x7f89cf0731d0>\n"
     ]
    }
   ],
   "source": [
    "y = x + 2\n",
    "print(y)\n",
    "print(x.is_leaf, y.is_leaf)\n",
    "print(y.grad_fn)"
   ]
  },
  {
   "cell_type": "code",
   "execution_count": 4,
   "metadata": {},
   "outputs": [
    {
     "name": "stdout",
     "output_type": "stream",
     "text": [
      "False False\n",
      "tensor([[27., 27.],\n",
      "        [27., 27.]], grad_fn=<MulBackward0>) tensor(27., grad_fn=<MeanBackward0>)\n"
     ]
    }
   ],
   "source": [
    "z = y * y * 3\n",
    "out = z.mean()\n",
    "print(z.is_leaf, out.is_leaf)\n",
    "print(z, out)"
   ]
  },
  {
   "cell_type": "code",
   "execution_count": 5,
   "metadata": {},
   "outputs": [
    {
     "name": "stdout",
     "output_type": "stream",
     "text": [
      "False\n",
      "True\n",
      "<SumBackward0 object at 0x7f89cf073e10>\n"
     ]
    }
   ],
   "source": [
    "# 使用 .requires_grad_ 来用inplace的方式改变requires_grad 属性\n",
    "a = torch.randn(2, 2) # default requires_grad = False\n",
    "a = ((a * 3) / (a - 1))\n",
    "print(a.requires_grad) # False\n",
    "a.requires_grad_(True)\n",
    "print(a.requires_grad)\n",
    "b = (a * a).sum()\n",
    "print(b.grad_fn)"
   ]
  },
  {
   "cell_type": "code",
   "execution_count": 6,
   "metadata": {},
   "outputs": [
    {
     "name": "stdout",
     "output_type": "stream",
     "text": [
      "tensor([[4.5000, 4.5000],\n",
      "        [4.5000, 4.5000]])\n",
      "tensor([[5.5000, 5.5000],\n",
      "        [5.5000, 5.5000]])\n",
      "tensor([[1., 1.],\n",
      "        [1., 1.]])\n"
     ]
    }
   ],
   "source": [
    "out.backward()\n",
    "# x = [[1, 1], [1, 1]]\n",
    "# grad = 1/4 * 3 * (1 + 2) * 1 = 9 / 2 = 4.5\n",
    "print(x.grad)\n",
    "\n",
    "# grad 在反向传播过程中是累加的\n",
    "out2 = x.sum()\n",
    "out2.backward() # 4.5 + 1 = 5.5\n",
    "print(x.grad)\n",
    "\n",
    "out3 = x.sum()\n",
    "x.grad.data.zero_() # 梯度值设为0\n",
    "out3.backward() # 0 + 1 = 1\n",
    "print(x.grad)"
   ]
  },
  {
   "cell_type": "markdown",
   "metadata": {},
   "source": [
    "**不允许张量对张量求导， 只允许标量对张良求导， 求导结果是和自变量同形的张量**, 必要时要把张量的通过所有张量的元素加权求和的方式转换为标量"
   ]
  },
  {
   "cell_type": "code",
   "execution_count": 7,
   "metadata": {},
   "outputs": [
    {
     "name": "stdout",
     "output_type": "stream",
     "text": [
      "tensor([[2., 4.],\n",
      "        [6., 8.]], grad_fn=<ViewBackward>)\n"
     ]
    }
   ],
   "source": [
    "# 在 y.backward()时， 如果y是标量， 则不需要为backward()传入任何参数; 否则，需要传入一个与y同形的shape\n",
    "# y.backward（w）不是 y对x的导数， 而是 I = torch.sum(y*w) 对 x 的倒数\n",
    "x = torch.tensor([1.0, 2.0, 3.0, 4.0], requires_grad=True)\n",
    "y = 2 * x\n",
    "z = y.view(2 , 2) # reshape\n",
    "print(z) "
   ]
  },
  {
   "cell_type": "code",
   "execution_count": 8,
   "metadata": {},
   "outputs": [
    {
     "name": "stdout",
     "output_type": "stream",
     "text": [
      "tensor([2.0000, 0.2000, 0.0200, 0.0020])\n"
     ]
    }
   ],
   "source": [
    "# 现在z不是一个标量\n",
    "# 传入与z同形的权重tensor进行加权求和得到一个标量\n",
    "v = torch.tensor([[1.0, 0.1], [0.01, 0.001]], dtype=torch.float)\n",
    "z.backward(v)\n",
    "print(x.grad)"
   ]
  },
  {
   "cell_type": "markdown",
   "metadata": {},
   "source": [
    "**中断梯度追踪**"
   ]
  },
  {
   "cell_type": "code",
   "execution_count": 9,
   "metadata": {},
   "outputs": [
    {
     "name": "stdout",
     "output_type": "stream",
     "text": [
      "True\n",
      "tensor(1., grad_fn=<PowBackward0>) True\n",
      "tensor(1.) False\n",
      "tensor(2., grad_fn=<AddBackward0>) True\n"
     ]
    }
   ],
   "source": [
    "import torch\n",
    "\n",
    "# detach\n",
    "x = torch.tensor(1.0, requires_grad=True)\n",
    "y1 = x ** 2\n",
    "with torch.no_grad():\n",
    "    y2 = x ** 3\n",
    "    \n",
    "y3 = y1 + y2\n",
    "\n",
    "print(x.requires_grad)\n",
    "print(y1, y1.requires_grad) \n",
    "print(y2, y2.requires_grad)\n",
    "print(y3, y3.requires_grad)\n"
   ]
  },
  {
   "cell_type": "code",
   "execution_count": 10,
   "metadata": {},
   "outputs": [
    {
     "name": "stdout",
     "output_type": "stream",
     "text": [
      "tensor(2.)\n"
     ]
    }
   ],
   "source": [
    "y3.backward()\n",
    "print(x.grad)"
   ]
  },
  {
   "cell_type": "code",
   "execution_count": 11,
   "metadata": {},
   "outputs": [
    {
     "name": "stdout",
     "output_type": "stream",
     "text": [
      "tensor([1.])\n",
      "False\n",
      "tensor([2.])\n"
     ]
    }
   ],
   "source": [
    "# 更改 tensor 数值， 不被autograde记录\n",
    "\n",
    "x = torch.ones(1, requires_grad=True)\n",
    "\n",
    "print(x.data)\n",
    "print(x.data.requires_grad)\n",
    "\n",
    "x.data *= 100 # 只改变值，不会记录在计算图，不影响梯度传播\n",
    "y = 2 * x\n",
    "\n",
    "y.backward()\n",
    "print(x.grad)"
   ]
  }
 ],
 "metadata": {
  "kernelspec": {
   "display_name": "pytorch",
   "language": "python",
   "name": "pytorch"
  },
  "language_info": {
   "codemirror_mode": {
    "name": "ipython",
    "version": 3
   },
   "file_extension": ".py",
   "mimetype": "text/x-python",
   "name": "python",
   "nbconvert_exporter": "python",
   "pygments_lexer": "ipython3",
   "version": "3.6.8"
  }
 },
 "nbformat": 4,
 "nbformat_minor": 2
}
