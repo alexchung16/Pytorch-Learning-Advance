{
 "cells": [
  {
   "cell_type": "markdown",
   "metadata": {},
   "source": [
    "# 自定义层"
   ]
  },
  {
   "cell_type": "code",
   "execution_count": 1,
   "metadata": {},
   "outputs": [],
   "source": [
    "import torch\n",
    "import torch.nn as nn"
   ]
  },
  {
   "cell_type": "markdown",
   "metadata": {},
   "source": [
    "## 不含模型参数的自定义层"
   ]
  },
  {
   "cell_type": "code",
   "execution_count": 2,
   "metadata": {},
   "outputs": [],
   "source": [
    "class ReduceMeanLayer(nn.Module):\n",
    "    def __init__(self, **kwargs):\n",
    "        super(ReduceMeanLayer, self).__init__(**kwargs)\n",
    "        \n",
    "    def forward(self, x):\n",
    "        \n",
    "        return x - x.mean()      "
   ]
  },
  {
   "cell_type": "code",
   "execution_count": 3,
   "metadata": {},
   "outputs": [
    {
     "name": "stdout",
     "output_type": "stream",
     "text": [
      "Sequential(\n",
      "  (0): Linear(in_features=4, out_features=2, bias=True)\n",
      "  (1): ReduceMeanLayer()\n",
      ")\n"
     ]
    }
   ],
   "source": [
    "net = nn.Sequential(nn.Linear(4, 2), \n",
    "                    ReduceMeanLayer())\n",
    "print(net)"
   ]
  },
  {
   "cell_type": "code",
   "execution_count": 4,
   "metadata": {},
   "outputs": [
    {
     "name": "stdout",
     "output_type": "stream",
     "text": [
      "0.0\n"
     ]
    }
   ],
   "source": [
    "x = torch.ones(4, 4)\n",
    "y = net(x)\n",
    "print(y.mean().item())"
   ]
  },
  {
   "cell_type": "markdown",
   "metadata": {},
   "source": [
    "## 包含模型参数的自定义层"
   ]
  },
  {
   "cell_type": "markdown",
   "metadata": {},
   "source": [
    "### 使用 ParameterList"
   ]
  },
  {
   "cell_type": "code",
   "execution_count": 18,
   "metadata": {},
   "outputs": [],
   "source": [
    "class CustomListDense(nn.Module):\n",
    "    def __init__(self, n):\n",
    "        super(CustomListDense, self).__init__()\n",
    "        self.params = nn.ParameterList([nn.Parameter(torch.randn(n_in, n_out)) for n_in, n_out in zip(n[:-1], n[1:])]) # weiths\n",
    "        self.params.append(nn.Parameter(torch.zeros(n[-1])))# bias\n",
    "    \n",
    "    def forward(self, x):\n",
    "        for l in range(len(self.params) - 1):\n",
    "            x = torch.mm(x, self.params[l])\n",
    "        x = x + self.params[-1] # add bias\n",
    "        \n",
    "        return x     "
   ]
  },
  {
   "cell_type": "code",
   "execution_count": 20,
   "metadata": {},
   "outputs": [
    {
     "name": "stdout",
     "output_type": "stream",
     "text": [
      "CustomListDense(\n",
      "  (params): ParameterList(\n",
      "      (0): Parameter containing: [torch.FloatTensor of size 10x32]\n",
      "      (1): Parameter containing: [torch.FloatTensor of size 32x2]\n",
      "      (2): Parameter containing: [torch.FloatTensor of size 2]\n",
      "  )\n",
      ")\n"
     ]
    }
   ],
   "source": [
    "net = CustomListDense([10, 32, 10])\n",
    "print(net)"
   ]
  },
  {
   "cell_type": "markdown",
   "metadata": {},
   "source": [
    "### 使用 ParameterDict"
   ]
  },
  {
   "cell_type": "code",
   "execution_count": 23,
   "metadata": {},
   "outputs": [],
   "source": [
    "class CustomDictDense(nn.Module):\n",
    "    def __init__(self, n):\n",
    "        super(CustomDictDense, self).__init__()\n",
    "        self.params1 = nn.ParameterDict({\n",
    "            'weight': nn.Parameter(torch.randn(n[0], n[1])),\n",
    "            'bias': nn.Parameter(torch.zeros(n[1]))\n",
    "        })\n",
    "        self.params2 = nn.ParameterDict({\n",
    "            'weight': nn.Parameter(torch.randn(n[1], n[2])),\n",
    "            'bias': nn.Parameter(torch.zeros(n[2]))\n",
    "        })\n",
    "    \n",
    "    def forward(self, x):\n",
    "        x = torch.mm(x, self.params1['weight']) +  self.params1['bias']\n",
    "        x = torch.mm(x, self.params2['weight']) +  self.params2['bias']\n",
    "        return x"
   ]
  },
  {
   "cell_type": "code",
   "execution_count": 24,
   "metadata": {},
   "outputs": [
    {
     "name": "stdout",
     "output_type": "stream",
     "text": [
      "CustomDictDense(\n",
      "  (params1): ParameterDict(\n",
      "      (bias): Parameter containing: [torch.FloatTensor of size 32]\n",
      "      (weight): Parameter containing: [torch.FloatTensor of size 10x32]\n",
      "  )\n",
      "  (params2): ParameterDict(\n",
      "      (bias): Parameter containing: [torch.FloatTensor of size 2]\n",
      "      (weight): Parameter containing: [torch.FloatTensor of size 32x2]\n",
      "  )\n",
      ")\n"
     ]
    }
   ],
   "source": [
    "net = CustomDictDense([10, 32, 2])\n",
    "print(net)"
   ]
  },
  {
   "cell_type": "markdown",
   "metadata": {},
   "source": [
    "组合自定义层"
   ]
  },
  {
   "cell_type": "code",
   "execution_count": 25,
   "metadata": {},
   "outputs": [
    {
     "name": "stdout",
     "output_type": "stream",
     "text": [
      "Sequential(\n",
      "  (0): CustomListDense(\n",
      "    (params): ParameterList(\n",
      "        (0): Parameter containing: [torch.FloatTensor of size 10x32]\n",
      "        (1): Parameter containing: [torch.FloatTensor of size 32x10]\n",
      "        (2): Parameter containing: [torch.FloatTensor of size 10]\n",
      "    )\n",
      "  )\n",
      "  (1): CustomDictDense(\n",
      "    (params1): ParameterDict(\n",
      "        (bias): Parameter containing: [torch.FloatTensor of size 16]\n",
      "        (weight): Parameter containing: [torch.FloatTensor of size 10x16]\n",
      "    )\n",
      "    (params2): ParameterDict(\n",
      "        (bias): Parameter containing: [torch.FloatTensor of size 2]\n",
      "        (weight): Parameter containing: [torch.FloatTensor of size 16x2]\n",
      "    )\n",
      "  )\n",
      ")\n"
     ]
    }
   ],
   "source": [
    "net = nn.Sequential(\n",
    "    CustomListDense([10, 32, 10]),\n",
    "    CustomDictDense([10, 16, 2])\n",
    ")\n",
    "print(net)"
   ]
  },
  {
   "cell_type": "code",
   "execution_count": 26,
   "metadata": {},
   "outputs": [
    {
     "name": "stdout",
     "output_type": "stream",
     "text": [
      "tensor([[-593.8731,  540.7744],\n",
      "        [  64.8773,  -10.4726],\n",
      "        [ -58.9383,  -10.2243],\n",
      "        [-369.0108,  273.4879],\n",
      "        [ -92.3642, -105.4754],\n",
      "        [ 559.9776,    8.4848],\n",
      "        [ 377.1218,  -41.2701],\n",
      "        [ -45.4641,  490.8425],\n",
      "        [ 330.3158, -199.8192],\n",
      "        [ 224.3984, -465.1309],\n",
      "        [ 842.5359, -429.8053],\n",
      "        [-468.3011,  354.9525],\n",
      "        [ 824.1006, -463.4549],\n",
      "        [-125.5716,   11.0276],\n",
      "        [-332.8697, -244.5576],\n",
      "        [ 198.2209,  -23.7020],\n",
      "        [-300.0633,  -20.0615],\n",
      "        [ -36.0695, -113.7194],\n",
      "        [-266.0639,  354.3293],\n",
      "        [-167.6408,  586.8952]], grad_fn=<AddBackward0>)\n"
     ]
    }
   ],
   "source": [
    "x = torch.randn(20, 10)\n",
    "y = net(x)\n",
    "print(y)"
   ]
  }
 ],
 "metadata": {
  "kernelspec": {
   "display_name": "pytorch",
   "language": "python",
   "name": "pytorch"
  },
  "language_info": {
   "codemirror_mode": {
    "name": "ipython",
    "version": 3
   },
   "file_extension": ".py",
   "mimetype": "text/x-python",
   "name": "python",
   "nbconvert_exporter": "python",
   "pygments_lexer": "ipython3",
   "version": "3.6.8"
  }
 },
 "nbformat": 4,
 "nbformat_minor": 4
}
