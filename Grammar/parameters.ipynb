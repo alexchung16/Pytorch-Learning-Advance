{
 "cells": [
  {
   "cell_type": "markdown",
   "metadata": {},
   "source": [
    "# 模型参数的访问和初始化"
   ]
  },
  {
   "cell_type": "code",
   "execution_count": 1,
   "metadata": {},
   "outputs": [],
   "source": [
    "import torch \n",
    "import torch.nn as nn"
   ]
  },
  {
   "cell_type": "code",
   "execution_count": 2,
   "metadata": {},
   "outputs": [
    {
     "name": "stdout",
     "output_type": "stream",
     "text": [
      "Sequential(\n",
      "  (0): Linear(in_features=5, out_features=4, bias=True)\n",
      "  (1): ReLU()\n",
      "  (2): Linear(in_features=4, out_features=1, bias=True)\n",
      ")\n"
     ]
    }
   ],
   "source": [
    "net = nn.Sequential(\n",
    "    nn.Linear(5, 4),\n",
    "    nn.ReLU(),\n",
    "    nn.Linear(4, 1)\n",
    ")\n",
    "\n",
    "print(net)\n",
    "\n",
    "x = torch.rand(5,5)\n",
    "y = net(x).sum()"
   ]
  },
  {
   "cell_type": "markdown",
   "metadata": {},
   "source": [
    "## 访问模型参数"
   ]
  },
  {
   "cell_type": "code",
   "execution_count": 3,
   "metadata": {},
   "outputs": [
    {
     "name": "stdout",
     "output_type": "stream",
     "text": [
      "<generator object Module.parameters at 0x7f2451558570>\n",
      "torch.Size([4, 5]) <class 'torch.nn.parameter.Parameter'>\n",
      "torch.Size([4]) <class 'torch.nn.parameter.Parameter'>\n",
      "torch.Size([1, 4]) <class 'torch.nn.parameter.Parameter'>\n",
      "torch.Size([1]) <class 'torch.nn.parameter.Parameter'>\n"
     ]
    }
   ],
   "source": [
    "# method 1 .parameters\n",
    "print(net.parameters())\n",
    "for param in net.parameters():\n",
    "    print(param.size(), type(param))"
   ]
  },
  {
   "cell_type": "code",
   "execution_count": 4,
   "metadata": {},
   "outputs": [
    {
     "name": "stdout",
     "output_type": "stream",
     "text": [
      "<generator object Module.named_parameters at 0x7f23e6e91e60>\n",
      "0.weight torch.Size([4, 5]) <class 'torch.nn.parameter.Parameter'>\n",
      "0.bias torch.Size([4]) <class 'torch.nn.parameter.Parameter'>\n",
      "2.weight torch.Size([1, 4]) <class 'torch.nn.parameter.Parameter'>\n",
      "2.bias torch.Size([1]) <class 'torch.nn.parameter.Parameter'>\n"
     ]
    }
   ],
   "source": [
    "# method 2 .named_parameters\n",
    "print(net.named_parameters())\n",
    "for name, param in net.named_parameters():\n",
    "    print(name, param.size(), type(param))"
   ]
  },
  {
   "cell_type": "code",
   "execution_count": 5,
   "metadata": {},
   "outputs": [
    {
     "name": "stdout",
     "output_type": "stream",
     "text": [
      "weight torch.Size([4, 5]) <class 'torch.nn.parameter.Parameter'>\n",
      "bias torch.Size([4]) <class 'torch.nn.parameter.Parameter'>\n"
     ]
    }
   ],
   "source": [
    "# 访问单层模型参数\n",
    "for name, param in net[0].named_parameters():\n",
    "    print(name, param.size(), type(param))"
   ]
  },
  {
   "cell_type": "markdown",
   "metadata": {},
   "source": [
    "**Parameter是Tensor的子类， 如果一个Tensor 是 Parameter, 那么tensor会自动被添加到模型列表里**"
   ]
  },
  {
   "cell_type": "code",
   "execution_count": 8,
   "metadata": {},
   "outputs": [],
   "source": [
    "class DemoModel(nn.Module):\n",
    "    def __init__(self, **kwargs):\n",
    "        super(DemoModel, self).__init__(**kwargs)\n",
    "        self.weight1 = nn.Parameter(torch.rand(4, 3))\n",
    "        self.weight2 = torch.rand(4, 3)\n",
    "    def forward(self, x):\n",
    "        pass"
   ]
  },
  {
   "cell_type": "code",
   "execution_count": 9,
   "metadata": {},
   "outputs": [
    {
     "name": "stdout",
     "output_type": "stream",
     "text": [
      "weight1 torch.Size([4, 3]) <class 'torch.nn.parameter.Parameter'>\n"
     ]
    }
   ],
   "source": [
    "demo_net = DemoModel()\n",
    "for name, param in demo_net.named_parameters():\n",
    "    print(name, param.size(), type(param))"
   ]
  },
  {
   "cell_type": "markdown",
   "metadata": {},
   "source": [
    "weight1 在参数列表， 而 weight2 不在参数列表"
   ]
  },
  {
   "cell_type": "markdown",
   "metadata": {},
   "source": [
    "## 初始化模型参数"
   ]
  },
  {
   "cell_type": "code",
   "execution_count": 13,
   "metadata": {},
   "outputs": [
    {
     "name": "stdout",
     "output_type": "stream",
     "text": [
      "0.weight tensor([[-0.0107,  0.0033, -0.0034, -0.0149,  0.0026],\n",
      "        [ 0.0149, -0.0019,  0.0021, -0.0076, -0.0184],\n",
      "        [ 0.0094,  0.0097, -0.0005,  0.0002,  0.0045],\n",
      "        [ 0.0084,  0.0242,  0.0030, -0.0017,  0.0015]])\n",
      "0.weight tensor([[-0.0043, -0.0139,  0.0144,  0.0030,  0.0138],\n",
      "        [-0.0049,  0.0087,  0.0054,  0.0007, -0.0068],\n",
      "        [-0.0096,  0.0035,  0.0090,  0.0014, -0.0086],\n",
      "        [-0.0034, -0.0021,  0.0100, -0.0106,  0.0163]])\n",
      "2.weight tensor([[ 0.0050,  0.0016, -0.0031, -0.0079]])\n",
      "2.weight tensor([[-0.0042,  0.0025,  0.0025,  0.0026]])\n"
     ]
    }
   ],
   "source": [
    "# initial weight as normal distribution\n",
    "for name, param in net.named_parameters():\n",
    "    if 'weight' in name:\n",
    "        nn.init.normal_(param, mean=0, std=0.01)\n",
    "        print(name, param.data)    "
   ]
  },
  {
   "cell_type": "code",
   "execution_count": 16,
   "metadata": {},
   "outputs": [
    {
     "name": "stdout",
     "output_type": "stream",
     "text": [
      "0.bias tensor([0., 0., 0., 0.])\n",
      "0.bias tensor([0., 0., 0., 0.])\n",
      "2.bias tensor([0.])\n",
      "2.bias tensor([0.])\n"
     ]
    }
   ],
   "source": [
    "# initial bias as constant 0\n",
    "for name, param in net.named_parameters():\n",
    "    if 'bias' in name:\n",
    "        nn.init.constant_(param, val=0.)\n",
    "        print(name, param.data) "
   ]
  },
  {
   "cell_type": "markdown",
   "metadata": {},
   "source": [
    "## 自定义参数初始化方法"
   ]
  },
  {
   "cell_type": "code",
   "execution_count": 17,
   "metadata": {},
   "outputs": [],
   "source": [
    "# method 1 with no_grad\n",
    "def init_weight_(tensor):\n",
    "    with torch.no_grad():\n",
    "        tensor.normal_(mean=1, std=0.01)"
   ]
  },
  {
   "cell_type": "code",
   "execution_count": 18,
   "metadata": {},
   "outputs": [
    {
     "name": "stdout",
     "output_type": "stream",
     "text": [
      "0.weight tensor([[0.9975, 0.9960, 0.9972, 1.0055, 0.9755],\n",
      "        [0.9944, 1.0065, 1.0047, 1.0051, 0.9996],\n",
      "        [0.9964, 1.0207, 0.9852, 1.0082, 1.0099],\n",
      "        [0.9987, 0.9790, 0.9945, 0.9971, 1.0007]])\n",
      "2.weight tensor([[0.9838, 1.0018, 0.9921, 1.0024]])\n"
     ]
    }
   ],
   "source": [
    "for name, param in net.named_parameters():\n",
    "    if 'weight' in name:\n",
    "        init_weight_(param)\n",
    "        print(name, param.data)   "
   ]
  },
  {
   "cell_type": "code",
   "execution_count": 27,
   "metadata": {},
   "outputs": [],
   "source": [
    "# method 2 with tensor.data\n",
    "def init_bias__(tensor):\n",
    "    tensor.data += 1."
   ]
  },
  {
   "cell_type": "code",
   "execution_count": 28,
   "metadata": {},
   "outputs": [
    {
     "name": "stdout",
     "output_type": "stream",
     "text": [
      "0.bias tensor([1., 1., 1., 1.])\n",
      "2.bias tensor([1.])\n"
     ]
    }
   ],
   "source": [
    "for name, param in net.named_parameters():\n",
    "    if 'bias' in name:\n",
    "        init_bias__(param)\n",
    "        print(name, param.data) "
   ]
  },
  {
   "cell_type": "markdown",
   "metadata": {},
   "source": [
    "## 共享模型参数"
   ]
  },
  {
   "cell_type": "code",
   "execution_count": null,
   "metadata": {},
   "outputs": [],
   "source": []
  }
 ],
 "metadata": {
  "kernelspec": {
   "display_name": "pytorch",
   "language": "python",
   "name": "pytorch"
  },
  "language_info": {
   "codemirror_mode": {
    "name": "ipython",
    "version": 3
   },
   "file_extension": ".py",
   "mimetype": "text/x-python",
   "name": "python",
   "nbconvert_exporter": "python",
   "pygments_lexer": "ipython3",
   "version": "3.6.8"
  }
 },
 "nbformat": 4,
 "nbformat_minor": 4
}
