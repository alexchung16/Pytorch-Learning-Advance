{
 "cells": [
  {
   "cell_type": "markdown",
   "metadata": {},
   "source": [
    "# 基于GRU的字符生成"
   ]
  },
  {
   "cell_type": "markdown",
   "metadata": {},
   "source": [
    "## GRU\n",
    "\n",
    "门控循环单元（gated recurrent unit，GRU）是一种常用的门控循环神经网络\n",
    "\n",
    "GRU引入了重置门（reset gate）和更新门（update gate）的概念，从而修改了循环神经网络中隐藏状态的计算方式。\n",
    "\n",
    "![GRU](../Docs/GRU-Core.png)\n",
    "\n",
    "* 重置门和更新门计算\n",
    "$$ \\begin{aligned} \\boldsymbol{R}_t = \\sigma(\\boldsymbol{X}_t \\boldsymbol{W}_{xr} + \\boldsymbol{H}_{t-1} \\boldsymbol{W}_{hr} + \\boldsymbol{b}_r),\\\\\n",
    "\\boldsymbol{Z}_t = \\sigma(\\boldsymbol{X}_t \\boldsymbol{W}_{xz} + \\boldsymbol{H}_{t-1} \\boldsymbol{W}_{hz} + \\boldsymbol{b}_z), \\end{aligned} $$\n",
    "* 候选隐藏状态\n",
    "$$\\tilde{\\boldsymbol{H}}t = \\text{tanh}(\\boldsymbol{X}t \\boldsymbol{W}{xh} + \\left(\\boldsymbol{R}t \\odot \\boldsymbol{H}{t-1}\\right) \\boldsymbol{W}{hh} + \\boldsymbol{b}_h),$$\n",
    "* 隐藏状态更新\n",
    "$$\\boldsymbol{H}_t = \\boldsymbol{Z}t \\odot \\boldsymbol{H}{t-1} + (1 - \\boldsymbol{Z}_t) \\odot \\tilde{\\boldsymbol{H}}_t.$$\n",
    "\n",
    "\n",
    "**重置门有助于捕捉时间序列里短期的依赖关系.**\n",
    "\n",
    "**更新门有助于捕捉时间序列里长期的依赖关系**"
   ]
  },
  {
   "cell_type": "code",
   "execution_count": null,
   "metadata": {},
   "outputs": [],
   "source": []
  }
 ],
 "metadata": {
  "kernelspec": {
   "display_name": "pytorch",
   "language": "python",
   "name": "pytorch"
  },
  "language_info": {
   "codemirror_mode": {
    "name": "ipython",
    "version": 3
   },
   "file_extension": ".py",
   "mimetype": "text/x-python",
   "name": "python",
   "nbconvert_exporter": "python",
   "pygments_lexer": "ipython3",
   "version": "3.6.8"
  }
 },
 "nbformat": 4,
 "nbformat_minor": 4
}
