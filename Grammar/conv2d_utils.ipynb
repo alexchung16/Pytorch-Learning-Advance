{
 "cells": [
  {
   "cell_type": "markdown",
   "metadata": {},
   "source": [
    "# 卷积操作"
   ]
  },
  {
   "cell_type": "code",
   "execution_count": 1,
   "metadata": {},
   "outputs": [],
   "source": [
    "import torch \n",
    "import numpy as np\n",
    "import torch.nn as nn"
   ]
  },
  {
   "cell_type": "markdown",
   "metadata": {},
   "source": [
    "## 填充（padding）\n",
    "\n",
    "填充（padding）是指在输入高和宽的两侧填充元素（通常是0元素)。\n",
    "\n",
    "通常填充操作的目的是使得输入的特征([w_i, h_i, c_i])与输出的特征([w_o, h_o, c_o])满足[w_i, h_i]=[w_o, h_o], 即卷积操作保持特征的宽度和高度的大小。\n",
    "* **在卷积操作之前**, 在特征的高方向填充$p_h = k_h - 1$行零行, 在宽方向填充$p_w = k_w - 1$列零列。\n",
    "* 当卷积核的大小k为奇数，上下方向分别填充$\\frac{k-1}{2}$行零行; 左右方向同理进行填充。\n",
    "* 当卷积核的大小k为偶数，上方填充$\\lceil \\frac{k-1}{2}\\rceil$行零行，下方填充$\\lfloor \\frac{k-1}{2}\\rfloor$行零行; 左右方向同理进行填充。\n"
   ]
  },
  {
   "cell_type": "code",
   "execution_count": 2,
   "metadata": {},
   "outputs": [],
   "source": [
    "def corr2d(x, k, padding=0):\n",
    "    \"\"\"\n",
    "    with padding \n",
    "    \"\"\"\n",
    "    if isinstance(padding, tuple) is False:\n",
    "        padding = (padding, padding)\n",
    "\n",
    "    padding_size = padding[0] + padding[1]\n",
    "\n",
    "    p_x = torch.zeros(x.shape[0] + padding_size, x.shape[1] + padding_size)  # padding x\n",
    "    p_x[padding[0]:padding[0] + x.shape[0], padding[0]:padding[0] + x.shape[1]] = x\n",
    "\n",
    "    h, w = k.shape\n",
    "    \n",
    "    # output_shape = (x.shape[0] + padding_size - h + 1, x.shape[1] + padding_size - w + 1)\n",
    "    output_shape = (p_x.shape[0] - h + 1, p_x.shape[1] - w + 1)\n",
    "\n",
    "    y = torch.zeros(output_shape)\n",
    "\n",
    "    for i in range(y.shape[0]):\n",
    "        for j in range(y.shape[1]):\n",
    "            y[i, j] = (p_x[i:i + h, j:j + w] * k).sum()\n",
    "\n",
    "    return y"
   ]
  },
  {
   "cell_type": "code",
   "execution_count": 3,
   "metadata": {},
   "outputs": [
    {
     "name": "stdout",
     "output_type": "stream",
     "text": [
      "tensor([[ 0,  1,  2,  3,  4],\n",
      "        [ 5,  6,  7,  8,  9],\n",
      "        [10, 11, 12, 13, 14],\n",
      "        [15, 16, 17, 18, 19],\n",
      "        [20, 21, 22, 23, 24]])\n",
      "tensor([[1., 1., 1.],\n",
      "        [1., 1., 1.],\n",
      "        [1., 1., 1.]])\n",
      "tensor([[ 54.,  63.,  72.],\n",
      "        [ 99., 108., 117.],\n",
      "        [144., 153., 162.]])\n",
      "tensor([[ 12.,  21.,  27.,  33.,  24.],\n",
      "        [ 33.,  54.,  63.,  72.,  51.],\n",
      "        [ 63.,  99., 108., 117.,  81.],\n",
      "        [ 93., 144., 153., 162., 111.],\n",
      "        [ 72., 111., 117., 123.,  84.]])\n"
     ]
    }
   ],
   "source": [
    "# odd size\n",
    "x = torch.arange(25).view(5, 5)\n",
    "k = torch.ones(3, 3)\n",
    "y = corr2d(x, k)\n",
    "y_p1 = corr2d(x, k, padding=1)\n",
    "\n",
    "print(x)\n",
    "print(k)\n",
    "print(y)\n",
    "print(y_p1)"
   ]
  },
  {
   "cell_type": "code",
   "execution_count": 4,
   "metadata": {},
   "outputs": [
    {
     "name": "stdout",
     "output_type": "stream",
     "text": [
      "tensor([[ 12.,  21.,  32.,  40.,  33.],\n",
      "        [ 33.,  54.,  78.,  90.,  72.],\n",
      "        [ 64., 102., 144., 160., 126.],\n",
      "        [104., 162., 224., 240., 186.],\n",
      "        [ 93., 144., 198., 210., 162.]])\n"
     ]
    }
   ],
   "source": [
    "# even size\n",
    "k = torch.ones(4, 4)\n",
    "y_p2 = corr2d(x, k, padding=(2,1))\n",
    "print(y_p2)"
   ]
  },
  {
   "cell_type": "markdown",
   "metadata": {},
   "source": [
    "## 步幅 (stride)\n",
    "\n",
    "输出特征大小: $h = \\lfloor \\frac{n_h - k_h + p_h}{s_h} \\rfloor +1$， $s = \\lfloor \\frac{n_w - k_w + p_w}{s_w} \\rfloor +1$\n",
    "* no-padding: $h = \\lfloor \\frac{n_h - k_h}{s_h} \\rfloor +1$， $s = \\lfloor \\frac{n_w - k_w}{s_w} \\rfloor +1$\n",
    "* padding: $h = \\lfloor \\frac{n_h-1}{s_h} \\rfloor +1$， $s = \\lfloor \\frac{n_w-1}{s_w} \\rfloor +1$"
   ]
  },
  {
   "cell_type": "code",
   "execution_count": 5,
   "metadata": {},
   "outputs": [],
   "source": [
    "def corr2d(x, k, padding=0, stride=1):\n",
    "    \"\"\"\n",
    "    with padding\n",
    "    \"\"\"\n",
    "\n",
    "    if isinstance(padding, tuple) is False:\n",
    "        padding = (padding, padding)\n",
    "\n",
    "    if isinstance(stride, tuple) is False:\n",
    "        stride = (stride, stride)\n",
    "\n",
    "    padding_size = padding[0] + padding[1]\n",
    "\n",
    "    p_x = torch.zeros(x.shape[0] + padding_size, x.shape[1] + padding_size)  # padding x\n",
    "    p_x[padding[0]:padding[0] + x.shape[0], padding[0]:padding[0] + x.shape[1]] = x\n",
    "\n",
    "    h, w = k.shape\n",
    "\n",
    "    output_shape = (int(np.floor((x.shape[0] - h + padding_size) / stride[0]) + 1),\n",
    "                    int(np.floor((x.shape[1] - w + padding_size) / stride[1]) + 1))\n",
    "\n",
    "    y = torch.zeros(output_shape)\n",
    "\n",
    "    for i in range(y.shape[0]):\n",
    "        for j in range(y.shape[1]):\n",
    "            y[i, j] = (p_x[i * stride[0]:i * stride[0] + h, j * stride[1]:j * stride[1] + w] * k).sum()\n",
    "\n",
    "    return y"
   ]
  },
  {
   "cell_type": "code",
   "execution_count": 6,
   "metadata": {},
   "outputs": [
    {
     "name": "stdout",
     "output_type": "stream",
     "text": [
      "tensor([[ 54.,  72.],\n",
      "        [144., 162.]])\n"
     ]
    }
   ],
   "source": [
    "k = torch.ones(3, 3)\n",
    "# h = w = int(np.floor((5 - 3 + 0) / 2) + 1) = 2 \n",
    "y_p0_s2 = corr2d(x, k, padding=0, stride=2)\n",
    "print(y_p0_s2)"
   ]
  },
  {
   "cell_type": "code",
   "execution_count": 7,
   "metadata": {},
   "outputs": [
    {
     "name": "stdout",
     "output_type": "stream",
     "text": [
      "tensor([[ 12.,  27.,  24.],\n",
      "        [ 63., 108.,  81.],\n",
      "        [ 72., 117.,  84.]])\n"
     ]
    }
   ],
   "source": [
    "# h = w = int(np.floor((5 - 3 + 2*1) / 2) + 1) = 2 \n",
    "y_p1_s2 = corr2d(x, k, padding=1, stride=2)\n",
    "print(y_p1_s2)"
   ]
  },
  {
   "cell_type": "markdown",
   "metadata": {},
   "source": [
    "## 多通道"
   ]
  },
  {
   "cell_type": "code",
   "execution_count": 8,
   "metadata": {},
   "outputs": [],
   "source": [
    "# multi input\n",
    "def corr2d_multi_input_single_out(x, k):\n",
    "    \"\"\"\n",
    "    NCHW\n",
    "    x:[C, H， W]\n",
    "    k:[C, K, K]\n",
    "    \"\"\"\n",
    "    res = None\n",
    "    for i in range(x.shape[0]):\n",
    "        if res is None:\n",
    "            res = corr2d(x[i, :, :], k[i, :, :])\n",
    "        else:\n",
    "            res += corr2d(x[i, :, :], k[i, :, :])\n",
    "        \n",
    "        return res\n"
   ]
  },
  {
   "cell_type": "code",
   "execution_count": 9,
   "metadata": {},
   "outputs": [
    {
     "name": "stdout",
     "output_type": "stream",
     "text": [
      "torch.Size([3, 3])\n"
     ]
    }
   ],
   "source": [
    "x = torch.arange(3*5*5).view(3, 5, 5)\n",
    "k = torch.arange(3*3*3).view(3, 3, 3)\n",
    "y = corr2d_multi_input_single_out(x, k)\n",
    "print(y.shape)\n"
   ]
  },
  {
   "cell_type": "code",
   "execution_count": 10,
   "metadata": {},
   "outputs": [],
   "source": [
    "# multi_output\n",
    "def corr2d_multi_in_multi_out(x, k):\n",
    "    # stack\n",
    "    return torch.stack([corr2d_multi_input_single_out(x, k) for k in k])"
   ]
  },
  {
   "cell_type": "code",
   "execution_count": 11,
   "metadata": {},
   "outputs": [
    {
     "name": "stdout",
     "output_type": "stream",
     "text": [
      "torch.Size([4, 3, 3])\n"
     ]
    }
   ],
   "source": [
    "x = torch.arange(3*5*5).view(3, 5, 5)\n",
    "k = torch.arange(4*3*3*3).view(4, 3, 3, 3)\n",
    "y = corr2d_multi_in_multi_out(x, k)\n",
    "print(y.shape)"
   ]
  },
  {
   "cell_type": "markdown",
   "metadata": {},
   "source": [
    "## 池化（pooling）"
   ]
  },
  {
   "cell_type": "code",
   "execution_count": 12,
   "metadata": {},
   "outputs": [],
   "source": [
    "# pooling\n",
    "def pool2d(x, pool_size, mode='max'):\n",
    "    x = x.float()  # convert to float\n",
    "    p_h, p_w = pool_size\n",
    "    y = torch.zeros(x.shape[0] - p_h + 1, x.shape[1] - p_w + 1)\n",
    "    for i in range(x.shape[0]):\n",
    "        for j in range(x.shape[1]):\n",
    "            if mode == 'max':\n",
    "                y[i, j] = x[i: i + p_h, j: j + p_w].max()\n",
    "            elif mode == 'avg':\n",
    "                x[i, j] = x[i: i + p_h, j: j + p_w].mean()       \n",
    "    return y"
   ]
  },
  {
   "cell_type": "code",
   "execution_count": 13,
   "metadata": {},
   "outputs": [
    {
     "ename": "IndexError",
     "evalue": "index 4 is out of bounds for dimension 1 with size 4",
     "output_type": "error",
     "traceback": [
      "\u001b[0;31m---------------------------------------------------------------------------\u001b[0m",
      "\u001b[0;31mIndexError\u001b[0m                                Traceback (most recent call last)",
      "\u001b[0;32m<ipython-input-13-e1256f553535>\u001b[0m in \u001b[0;36m<module>\u001b[0;34m\u001b[0m\n\u001b[1;32m      1\u001b[0m \u001b[0mx\u001b[0m \u001b[0;34m=\u001b[0m \u001b[0mtorch\u001b[0m\u001b[0;34m.\u001b[0m\u001b[0marange\u001b[0m\u001b[0;34m(\u001b[0m\u001b[0;36m5\u001b[0m\u001b[0;34m*\u001b[0m\u001b[0;36m5\u001b[0m\u001b[0;34m)\u001b[0m\u001b[0;34m.\u001b[0m\u001b[0mview\u001b[0m\u001b[0;34m(\u001b[0m\u001b[0;36m5\u001b[0m\u001b[0;34m,\u001b[0m \u001b[0;36m5\u001b[0m\u001b[0;34m)\u001b[0m\u001b[0;34m\u001b[0m\u001b[0;34m\u001b[0m\u001b[0m\n\u001b[1;32m      2\u001b[0m \u001b[0mpool_size\u001b[0m \u001b[0;34m=\u001b[0m \u001b[0;34m(\u001b[0m\u001b[0;36m2\u001b[0m\u001b[0;34m,\u001b[0m \u001b[0;36m2\u001b[0m\u001b[0;34m)\u001b[0m\u001b[0;34m\u001b[0m\u001b[0;34m\u001b[0m\u001b[0m\n\u001b[0;32m----> 3\u001b[0;31m \u001b[0my\u001b[0m \u001b[0;34m=\u001b[0m \u001b[0mpool2d\u001b[0m\u001b[0;34m(\u001b[0m\u001b[0mx\u001b[0m\u001b[0;34m,\u001b[0m \u001b[0mpool_size\u001b[0m\u001b[0;34m)\u001b[0m\u001b[0;34m\u001b[0m\u001b[0;34m\u001b[0m\u001b[0m\n\u001b[0m\u001b[1;32m      4\u001b[0m \u001b[0mprint\u001b[0m\u001b[0;34m(\u001b[0m\u001b[0my\u001b[0m\u001b[0;34m)\u001b[0m\u001b[0;34m\u001b[0m\u001b[0;34m\u001b[0m\u001b[0m\n",
      "\u001b[0;32m<ipython-input-12-688b1e9b90a4>\u001b[0m in \u001b[0;36mpool2d\u001b[0;34m(x, pool_size, mode)\u001b[0m\n\u001b[1;32m      7\u001b[0m         \u001b[0;32mfor\u001b[0m \u001b[0mj\u001b[0m \u001b[0;32min\u001b[0m \u001b[0mrange\u001b[0m\u001b[0;34m(\u001b[0m\u001b[0mx\u001b[0m\u001b[0;34m.\u001b[0m\u001b[0mshape\u001b[0m\u001b[0;34m[\u001b[0m\u001b[0;36m1\u001b[0m\u001b[0;34m]\u001b[0m\u001b[0;34m)\u001b[0m\u001b[0;34m:\u001b[0m\u001b[0;34m\u001b[0m\u001b[0;34m\u001b[0m\u001b[0m\n\u001b[1;32m      8\u001b[0m             \u001b[0;32mif\u001b[0m \u001b[0mmode\u001b[0m \u001b[0;34m==\u001b[0m \u001b[0;34m'max'\u001b[0m\u001b[0;34m:\u001b[0m\u001b[0;34m\u001b[0m\u001b[0;34m\u001b[0m\u001b[0m\n\u001b[0;32m----> 9\u001b[0;31m                 \u001b[0my\u001b[0m\u001b[0;34m[\u001b[0m\u001b[0mi\u001b[0m\u001b[0;34m,\u001b[0m \u001b[0mj\u001b[0m\u001b[0;34m]\u001b[0m \u001b[0;34m=\u001b[0m \u001b[0mx\u001b[0m\u001b[0;34m[\u001b[0m\u001b[0mi\u001b[0m\u001b[0;34m:\u001b[0m \u001b[0mi\u001b[0m \u001b[0;34m+\u001b[0m \u001b[0mp_h\u001b[0m\u001b[0;34m,\u001b[0m \u001b[0mj\u001b[0m\u001b[0;34m:\u001b[0m \u001b[0mj\u001b[0m \u001b[0;34m+\u001b[0m \u001b[0mp_w\u001b[0m\u001b[0;34m]\u001b[0m\u001b[0;34m.\u001b[0m\u001b[0mmax\u001b[0m\u001b[0;34m(\u001b[0m\u001b[0;34m)\u001b[0m\u001b[0;34m\u001b[0m\u001b[0;34m\u001b[0m\u001b[0m\n\u001b[0m\u001b[1;32m     10\u001b[0m             \u001b[0;32melif\u001b[0m \u001b[0mmode\u001b[0m \u001b[0;34m==\u001b[0m \u001b[0;34m'avg'\u001b[0m\u001b[0;34m:\u001b[0m\u001b[0;34m\u001b[0m\u001b[0;34m\u001b[0m\u001b[0m\n\u001b[1;32m     11\u001b[0m                 \u001b[0mx\u001b[0m\u001b[0;34m[\u001b[0m\u001b[0mi\u001b[0m\u001b[0;34m,\u001b[0m \u001b[0mj\u001b[0m\u001b[0;34m]\u001b[0m \u001b[0;34m=\u001b[0m \u001b[0mx\u001b[0m\u001b[0;34m[\u001b[0m\u001b[0mi\u001b[0m\u001b[0;34m:\u001b[0m \u001b[0mi\u001b[0m \u001b[0;34m+\u001b[0m \u001b[0mp_h\u001b[0m\u001b[0;34m,\u001b[0m \u001b[0mj\u001b[0m\u001b[0;34m:\u001b[0m \u001b[0mj\u001b[0m \u001b[0;34m+\u001b[0m \u001b[0mp_w\u001b[0m\u001b[0;34m]\u001b[0m\u001b[0;34m.\u001b[0m\u001b[0mmean\u001b[0m\u001b[0;34m(\u001b[0m\u001b[0;34m)\u001b[0m\u001b[0;34m\u001b[0m\u001b[0;34m\u001b[0m\u001b[0m\n",
      "\u001b[0;31mIndexError\u001b[0m: index 4 is out of bounds for dimension 1 with size 4"
     ]
    }
   ],
   "source": [
    "x = torch.arange(5*5).view(5, 5)\n",
    "pool_size = (2, 2)\n",
    "y = pool2d(x, pool_size)\n",
    "print(y)"
   ]
  },
  {
   "cell_type": "code",
   "execution_count": null,
   "metadata": {},
   "outputs": [],
   "source": [
    "def pool2d_multi_in_multi_out(X, pool_size, mode='max'):\n",
    "    # stack\n",
    "    return torch.stack([pool2d(x, pool_size, mode) for x in X])"
   ]
  },
  {
   "cell_type": "code",
   "execution_count": null,
   "metadata": {},
   "outputs": [],
   "source": [
    "x = torch.arange(3*5*5).view(3, 5, 5)\n",
    "pool_size = (2, 2)\n",
    "y = pool2d_multi_in_multi_out(x, pool_size)\n",
    "print(y)"
   ]
  },
  {
   "cell_type": "code",
   "execution_count": null,
   "metadata": {},
   "outputs": [],
   "source": []
  }
 ],
 "metadata": {
  "kernelspec": {
   "display_name": "pytorch",
   "language": "python",
   "name": "pytorch"
  },
  "language_info": {
   "codemirror_mode": {
    "name": "ipython",
    "version": 3
   },
   "file_extension": ".py",
   "mimetype": "text/x-python",
   "name": "python",
   "nbconvert_exporter": "python",
   "pygments_lexer": "ipython3",
   "version": "3.6.8"
  }
 },
 "nbformat": 4,
 "nbformat_minor": 4
}
