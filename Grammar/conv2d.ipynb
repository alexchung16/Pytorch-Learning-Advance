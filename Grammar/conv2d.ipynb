{
 "cells": [
  {
   "cell_type": "markdown",
   "metadata": {},
   "source": [
    "# 二维卷积"
   ]
  },
  {
   "cell_type": "code",
   "execution_count": 1,
   "metadata": {},
   "outputs": [],
   "source": [
    "import torch\n",
    "import torch.nn as nn"
   ]
  },
  {
   "cell_type": "markdown",
   "metadata": {},
   "source": [
    "## 二维互相关运算\n",
    "\n",
    "对于卷积网络（CNN）中的的卷积（convolution）运算，通常表示为互相关（cross-correlation）运算。\n",
    "\n",
    "**一个二维输入数组和一个二维核数组通过互相关运算输出一个二维数组**。"
   ]
  },
  {
   "cell_type": "code",
   "execution_count": 2,
   "metadata": {},
   "outputs": [],
   "source": [
    "# no padding and one channel\n",
    "def corr2d(x, k):\n",
    "    \"\"\"\n",
    "    \"\"\"\n",
    "    h, w = k.shape\n",
    "    output_shape = (x.shape[0] - h + 1, x.shape[1] - w + 1) # no padding\n",
    "    \n",
    "    y = torch.zeros(output_shape)\n",
    "    \n",
    "    for i in range(y.shape[0]):\n",
    "        for j in range(y.shape[1]):\n",
    "            y[i, j] = (x[i:i+h, j:j+w] * k).sum()\n",
    "    \n",
    "    return y  \n"
   ]
  },
  {
   "cell_type": "code",
   "execution_count": 3,
   "metadata": {},
   "outputs": [
    {
     "name": "stdout",
     "output_type": "stream",
     "text": [
      "tensor([[ 0,  1,  2,  3],\n",
      "        [ 4,  5,  6,  7],\n",
      "        [ 8,  9, 10, 11],\n",
      "        [12, 13, 14, 15]])\n",
      "tensor([[1., 1., 1.],\n",
      "        [1., 1., 1.],\n",
      "        [1., 1., 1.]])\n",
      "tensor([[45., 54.],\n",
      "        [81., 90.]])\n"
     ]
    }
   ],
   "source": [
    "x = torch.arange(16).view(4, 4)\n",
    "k = torch.ones(3, 3)\n",
    "y = corr2d(x, k)\n",
    "print(x)\n",
    "print(k)\n",
    "print(y)"
   ]
  },
  {
   "cell_type": "markdown",
   "metadata": {},
   "source": [
    "## 二维卷积层"
   ]
  },
  {
   "cell_type": "code",
   "execution_count": 4,
   "metadata": {},
   "outputs": [],
   "source": [
    "class Conv2D(nn.Module):\n",
    "    def __init__(self, kernel_size):\n",
    "        super(Conv2D, self).__init__()\n",
    "        self.weight = nn.Parameter(torch.randn(kernel_size))\n",
    "        self.bias = nn.Parameter(torch.zeros(1))\n",
    "        \n",
    "    def forward(self, x):\n",
    "        \n",
    "        return corr2d(x, self.weight) + self.bias"
   ]
  },
  {
   "cell_type": "code",
   "execution_count": 5,
   "metadata": {},
   "outputs": [
    {
     "name": "stdout",
     "output_type": "stream",
     "text": [
      "tensor([[ 1.4948,  1.1370,  0.7792],\n",
      "        [-0.2942, -0.6520, -1.0098],\n",
      "        [-2.0832, -2.4410, -2.7988]], grad_fn=<AddBackward0>)\n"
     ]
    }
   ],
   "source": [
    "x = torch.arange(25).view(5, 5)\n",
    "kernel_size = (3, 3)\n",
    "\n",
    "conv2d = Conv2D(kernel_size)\n",
    "y = conv2d(x)\n",
    "print(y)"
   ]
  },
  {
   "cell_type": "markdown",
   "metadata": {},
   "source": [
    "## 边缘检测应用"
   ]
  },
  {
   "cell_type": "code",
   "execution_count": 6,
   "metadata": {},
   "outputs": [
    {
     "name": "stdout",
     "output_type": "stream",
     "text": [
      "tensor([[1., 1., 0., 0., 0., 0., 0., 0., 1., 1.],\n",
      "        [1., 1., 0., 0., 0., 0., 0., 0., 1., 1.],\n",
      "        [1., 1., 0., 0., 0., 0., 0., 0., 1., 1.],\n",
      "        [1., 1., 0., 0., 0., 0., 0., 0., 1., 1.],\n",
      "        [1., 1., 0., 0., 0., 0., 0., 0., 1., 1.],\n",
      "        [1., 1., 0., 0., 0., 0., 0., 0., 1., 1.],\n",
      "        [1., 1., 0., 0., 0., 0., 0., 0., 1., 1.],\n",
      "        [1., 1., 0., 0., 0., 0., 0., 0., 1., 1.],\n",
      "        [1., 1., 0., 0., 0., 0., 0., 0., 1., 1.],\n",
      "        [1., 1., 0., 0., 0., 0., 0., 0., 1., 1.]])\n"
     ]
    }
   ],
   "source": [
    "# data\n",
    "x = torch.ones(10, 10)\n",
    "# x = torch.ones(6, 8)\n",
    "# x[:, 2:6] = 0.\n",
    "x[:, 2:8] = 0.\n",
    "print(x)"
   ]
  },
  {
   "cell_type": "code",
   "execution_count": 7,
   "metadata": {},
   "outputs": [
    {
     "name": "stdout",
     "output_type": "stream",
     "text": [
      "tensor([[ 0., -1.,  0.,  0.,  0.,  0.,  0.,  1.,  0.],\n",
      "        [ 0., -1.,  0.,  0.,  0.,  0.,  0.,  1.,  0.],\n",
      "        [ 0., -1.,  0.,  0.,  0.,  0.,  0.,  1.,  0.],\n",
      "        [ 0., -1.,  0.,  0.,  0.,  0.,  0.,  1.,  0.],\n",
      "        [ 0., -1.,  0.,  0.,  0.,  0.,  0.,  1.,  0.],\n",
      "        [ 0., -1.,  0.,  0.,  0.,  0.,  0.,  1.,  0.],\n",
      "        [ 0., -1.,  0.,  0.,  0.,  0.,  0.,  1.,  0.],\n",
      "        [ 0., -1.,  0.,  0.,  0.,  0.,  0.,  1.,  0.],\n",
      "        [ 0., -1.,  0.,  0.,  0.,  0.,  0.,  1.,  0.],\n",
      "        [ 0., -1.,  0.,  0.,  0.,  0.,  0.,  1.,  0.]])\n"
     ]
    }
   ],
   "source": [
    "edge_kernel = torch.tensor([[-1, 1]])\n",
    "y = corr2d(x, edge_kernel)\n",
    "print(y)"
   ]
  },
  {
   "cell_type": "code",
   "execution_count": 8,
   "metadata": {},
   "outputs": [],
   "source": [
    "def mse_loss(y_pred, y):\n",
    "    \n",
    "    return (y_pred - y.view(y_pred.size())) ** 2 "
   ]
  },
  {
   "cell_type": "code",
   "execution_count": 9,
   "metadata": {},
   "outputs": [],
   "source": [
    "def sgd(params, lr):\n",
    "    for param in params:\n",
    "        param.data -= lr * param.grad"
   ]
  },
  {
   "cell_type": "code",
   "execution_count": 10,
   "metadata": {},
   "outputs": [
    {
     "name": "stdout",
     "output_type": "stream",
     "text": [
      "step 5, loss 3.980\n",
      "step 10, loss 1.215\n",
      "step 15, loss 0.411\n",
      "step 20, loss 0.142\n",
      "step 25, loss 0.050\n",
      "step 30, loss 0.017\n"
     ]
    }
   ],
   "source": [
    "steps = 30\n",
    "lr = 0.005 # for x.shape = (10, 10)\n",
    "# lr = 0.01  # for x.shape = (6, 8)\n",
    "kernel_size = [1, 2]\n",
    "net = Conv2D(kernel_size)\n",
    "loss = mse_loss\n",
    "optimizer = sgd\n",
    "params = [net.weight, net.bias]\n",
    "\n",
    "for step in range(steps):\n",
    "    y_pred = net(x)\n",
    "    l = loss(y_pred, y).sum()\n",
    "    \n",
    "    \n",
    "    # grad clearing\n",
    "    for param in params:\n",
    "        if param.grad is not None:\n",
    "            # param.grad.fill_(0)\n",
    "            param.grad.data.zero_()\n",
    "            \n",
    "\n",
    "    # computer grad\n",
    "    l.backward()\n",
    "    \n",
    "    # update grad\n",
    "    optimizer(params, lr)\n",
    "    \n",
    "    if (step + 1) % 5 == 0:\n",
    "        print('step {}, loss {:.3f}'.format(step + 1, l.item()))\n"
   ]
  },
  {
   "cell_type": "markdown",
   "metadata": {},
   "source": [
    "**当损失函数值没有降低， 即模型训练不能收敛时，主要原因是因为学习率过大。因此可以通过减小学习率的大小，找到合适的学习率，使得模型收敛**"
   ]
  },
  {
   "cell_type": "code",
   "execution_count": 11,
   "metadata": {},
   "outputs": [
    {
     "name": "stdout",
     "output_type": "stream",
     "text": [
      "tensor([[-0.9734,  0.9736]])\n"
     ]
    }
   ],
   "source": [
    "print(net.weight.data)"
   ]
  }
 ],
 "metadata": {
  "kernelspec": {
   "display_name": "pytorch",
   "language": "python",
   "name": "pytorch"
  },
  "language_info": {
   "codemirror_mode": {
    "name": "ipython",
    "version": 3
   },
   "file_extension": ".py",
   "mimetype": "text/x-python",
   "name": "python",
   "nbconvert_exporter": "python",
   "pygments_lexer": "ipython3",
   "version": "3.6.8"
  }
 },
 "nbformat": 4,
 "nbformat_minor": 4
}
